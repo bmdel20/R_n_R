{
  "nbformat": 4,
  "nbformat_minor": 0,
  "metadata": {
    "colab": {
      "provenance": [],
      "authorship_tag": "ABX9TyNBjYzqKZNx5AvCyMxlNiLe",
      "include_colab_link": true
    },
    "kernelspec": {
      "name": "python3",
      "display_name": "Python 3"
    },
    "language_info": {
      "name": "python"
    }
  },
  "cells": [
    {
      "cell_type": "markdown",
      "metadata": {
        "id": "view-in-github",
        "colab_type": "text"
      },
      "source": [
        "<a href=\"https://colab.research.google.com/github/bmdel20/R_n_R/blob/main/R_n_R.ipynb\" target=\"_parent\"><img src=\"https://colab.research.google.com/assets/colab-badge.svg\" alt=\"Open In Colab\"/></a>"
      ]
    },
    {
      "cell_type": "code",
      "execution_count": null,
      "metadata": {
        "colab": {
          "base_uri": "https://localhost:8080/",
          "height": 250
        },
        "id": "iHstHKLoqAtW",
        "outputId": "cd3c09a9-e205-440a-de35-f1ecc509968d"
      },
      "outputs": [
        {
          "output_type": "error",
          "ename": "NameError",
          "evalue": "ignored",
          "traceback": [
            "\u001b[0;31m---------------------------------------------------------------------------\u001b[0m",
            "\u001b[0;31mNameError\u001b[0m                                 Traceback (most recent call last)",
            "\u001b[0;32m<ipython-input-1-331acbc9d181>\u001b[0m in \u001b[0;36m<cell line: 2>\u001b[0;34m()\u001b[0m\n\u001b[1;32m      1\u001b[0m \u001b[0;31m# Get last Wednesday's date\u001b[0m\u001b[0;34m\u001b[0m\u001b[0;34m\u001b[0m\u001b[0m\n\u001b[0;32m----> 2\u001b[0;31m \u001b[0mWednesday\u001b[0m \u001b[0;34m=\u001b[0m \u001b[0mdatetime\u001b[0m\u001b[0;34m.\u001b[0m\u001b[0mdate\u001b[0m\u001b[0;34m.\u001b[0m\u001b[0mwednesday\u001b[0m\u001b[0;34m(\u001b[0m\u001b[0;34m)\u001b[0m\u001b[0;34m\u001b[0m\u001b[0;34m\u001b[0m\u001b[0m\n\u001b[0m\u001b[1;32m      3\u001b[0m \u001b[0mprint\u001b[0m\u001b[0;34m(\u001b[0m\u001b[0;34m\"Today's Date:\"\u001b[0m\u001b[0;34m,\u001b[0m \u001b[0mtoday\u001b[0m\u001b[0;34m)\u001b[0m\u001b[0;34m\u001b[0m\u001b[0;34m\u001b[0m\u001b[0m\n",
            "\u001b[0;31mNameError\u001b[0m: name 'datetime' is not defined"
          ]
        }
      ],
      "source": [
        "# Get last Wednesday's date\n",
        "Wednesday = datetime.date.wednesday()\n",
        "print(\"Today's Date:\", today)"
      ]
    },
    {
      "cell_type": "code",
      "source": [
        "# Import the necessary libraries\n",
        "import datetime\n",
        "\n",
        "# Get today's date\n",
        "today = datetime.date.today()\n",
        "\n",
        "# Calculate the date of the last Wednesday\n",
        "days_to_subtract = (today.weekday() - 2) % 7  # 2 corresponds to Wednesday (0 = Monday, 1 = Tuesday, 2 = Wednesday, ...)\n",
        "last_wednesday = today - datetime.timedelta(days=days_to_subtract)\n",
        "\n",
        "print(\"Last Wednesday's Date:\", last_wednesday)"
      ],
      "metadata": {
        "colab": {
          "base_uri": "https://localhost:8080/"
        },
        "id": "LQLdedPGq-6n",
        "outputId": "dbbdd510-033c-47dc-d841-a00921544e01"
      },
      "execution_count": null,
      "outputs": [
        {
          "output_type": "stream",
          "name": "stdout",
          "text": [
            "Last Wednesday's Date: 2023-11-01\n"
          ]
        }
      ]
    },
    {
      "cell_type": "code",
      "source": [
        "# Perform a simple arithmetic operation\n",
        "result = 25 / 5\n",
        "print(\"25 / 5 =\", result)"
      ],
      "metadata": {
        "colab": {
          "base_uri": "https://localhost:8080/"
        },
        "id": "up-Lk9v7rFUS",
        "outputId": "15464c2a-adf0-420e-9b85-d09e3e33dbdd"
      },
      "execution_count": null,
      "outputs": [
        {
          "output_type": "stream",
          "name": "stdout",
          "text": [
            "25 / 5 = 5.0\n"
          ]
        }
      ]
    },
    {
      "cell_type": "code",
      "source": [
        "# Putting it together\n",
        "# Import the necessary libraries\n",
        "import datetime\n",
        "\n",
        "# Get today's date\n",
        "today = datetime.date.today()\n",
        "\n",
        "# Calculate the date of the last Wednesday\n",
        "days_to_subtract = (today.weekday() - 2) % 7  # 2 corresponds to Wednesday (0 = Monday, 1 = Tuesday, 2 = Wednesday, ...)\n",
        "last_wednesday = today - datetime.timedelta(days=days_to_subtract)\n",
        "\n",
        "print(\"Last Wednesday's Date:\", last_wednesday)\n",
        "\n",
        "# Perform a simple arithmetic operation\n",
        "result = 25 / 5\n",
        "print(\"25 / 5 =\", result)"
      ],
      "metadata": {
        "colab": {
          "base_uri": "https://localhost:8080/"
        },
        "id": "orPQ7X56rJqr",
        "outputId": "cd87959b-a058-4396-f5ec-c3e6af84c5bd"
      },
      "execution_count": null,
      "outputs": [
        {
          "output_type": "stream",
          "name": "stdout",
          "text": [
            "Last Wednesday's Date: 2023-11-01\n",
            "25 / 5 = 5.0\n"
          ]
        }
      ]
    }
  ]
}